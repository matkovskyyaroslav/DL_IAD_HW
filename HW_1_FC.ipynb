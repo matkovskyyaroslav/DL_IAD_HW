{
  "cells": [
    {
      "cell_type": "markdown",
      "metadata": {
        "id": "Q_upCOEI3Upu"
      },
      "source": [
        "# Основы глубинного обучения, майнор ИАД\n",
        "\n",
        "## Домашнее задание 1. Введение в PyTorch. Полносвязные нейронные сети.\n",
        "\n",
        "### Общая информация\n",
        "\n",
        "Дата выдачи: 01.10.2023\n",
        "\n",
        "Мягкий дедлайн: 23:59MSK 15.10.2023\n",
        "\n",
        "Жесткий дедлайн: 23:59MSK 20.10.2023\n",
        "\n",
        "### Оценивание и штрафы\n",
        "Максимально допустимая оценка за работу — 10 баллов. За каждый день просрочки снимается 1 балл. Сдавать задание после жёсткого дедлайна сдачи нельзя.\n",
        "\n",
        "Задание выполняется самостоятельно. «Похожие» решения считаются плагиатом и все задействованные студенты (в том числе те, у кого списали) не могут получить за него больше 0 баллов. Если вы нашли решение какого-то из заданий (или его часть) в открытом источнике, необходимо указать ссылку на этот источник в отдельном блоке в конце вашей работы (скорее всего вы будете не единственным, кто это нашел, поэтому чтобы исключить подозрение в плагиате, необходима ссылка на источник).\n",
        "\n",
        "Неэффективная реализация кода может негативно отразиться на оценке.\n",
        "Также оценка может быть снижена за плохо читаемый код и плохо оформленные графики. Все ответы должны сопровождаться кодом или комментариями о том, как они были получены.\n",
        "\n",
        "Итогова оценка считается как\n",
        "$$\n",
        "min(task_1, task_2)*0.8 + max(task_1, task_2)*0.2\n",
        "$$\n",
        "\n",
        "где task_1 и task_2 - оценки за первое и второе заданиее соответсвенно.\n",
        "Также, за домашнее задание выставляется 0, если не сделано нулевое или третье задание.\n",
        "### О задании\n",
        "\n",
        "В этом задании вам предстоит предсказывать год выпуска песни (**задача регрессии**) по некоторым звуковым признакам: [данные](https://archive.ics.uci.edu/ml/datasets/yearpredictionmsd). В ячейках ниже находится код для загрузки данных. Обратите внимание, что обучающая и тестовая выборки располагаются в одном файле, поэтому НЕ меняйте ячейку, в которой производится деление данных."
      ]
    },
    {
      "cell_type": "code",
      "execution_count": null,
      "metadata": {
        "id": "RI_eoe063VaP"
      },
      "outputs": [],
      "source": [
        "import torch\n",
        "from torch import nn\n",
        "import torch.nn.functional as F\n",
        "import pandas as pd\n",
        "import numpy as np\n",
        "import random\n",
        "device = \"cuda\" if torch.cuda.is_available() else \"cpu\"\n",
        "from tqdm.notebook import tqdm\n",
        "from IPython.display import clear_output\n",
        "import matplotlib.pyplot as plt"
      ]
    },
    {
      "cell_type": "code",
      "execution_count": null,
      "metadata": {
        "colab": {
          "base_uri": "https://localhost:8080/"
        },
        "id": "7NgSZeU-7vgj",
        "outputId": "85a7a674-0343-4cd5-e610-8e2262ea5463"
      },
      "outputs": [
        {
          "output_type": "stream",
          "name": "stdout",
          "text": [
            "--2023-10-09 15:53:38--  https://archive.ics.uci.edu/ml/machine-learning-databases/00203/YearPredictionMSD.txt.zip\n",
            "Resolving archive.ics.uci.edu (archive.ics.uci.edu)... 128.195.10.252\n",
            "Connecting to archive.ics.uci.edu (archive.ics.uci.edu)|128.195.10.252|:443... connected.\n",
            "HTTP request sent, awaiting response... 200 OK\n",
            "Length: unspecified\n",
            "Saving to: ‘data.txt.zip’\n",
            "\n",
            "data.txt.zip            [                <=> ] 201.24M  62.8MB/s    in 3.6s    \n",
            "\n",
            "2023-10-09 15:53:42 (56.6 MB/s) - ‘data.txt.zip’ saved [211011981]\n",
            "\n"
          ]
        }
      ],
      "source": [
        "!wget -O data.txt.zip https://archive.ics.uci.edu/ml/machine-learning-databases/00203/YearPredictionMSD.txt.zip"
      ]
    },
    {
      "cell_type": "code",
      "execution_count": null,
      "metadata": {
        "id": "DSVJZzkJ7zZE",
        "outputId": "8e35809c-14e4-448a-9309-e19561954bfa",
        "scrolled": false,
        "colab": {
          "base_uri": "https://localhost:8080/",
          "height": 255
        }
      },
      "outputs": [
        {
          "output_type": "execute_result",
          "data": {
            "text/plain": [
              "     0         1         2         3         4         5         6         7   \\\n",
              "0  2001  49.94357  21.47114  73.07750   8.74861 -17.40628 -13.09905 -25.01202   \n",
              "1  2001  48.73215  18.42930  70.32679  12.94636 -10.32437 -24.83777   8.76630   \n",
              "2  2001  50.95714  31.85602  55.81851  13.41693  -6.57898 -18.54940  -3.27872   \n",
              "3  2001  48.24750  -1.89837  36.29772   2.58776   0.97170 -26.21683   5.05097   \n",
              "4  2001  50.97020  42.20998  67.09964   8.46791 -15.85279 -16.81409 -12.48207   \n",
              "\n",
              "         8         9   ...        81         82        83        84        85  \\\n",
              "0 -12.23257   7.83089  ...  13.01620  -54.40548  58.99367  15.37344   1.11144   \n",
              "1  -0.92019  18.76548  ...   5.66812  -19.68073  33.04964  42.87836  -9.90378   \n",
              "2  -2.35035  16.07017  ...   3.03800   26.05866 -50.92779  10.93792  -0.07568   \n",
              "3 -10.34124   3.55005  ...  34.57337 -171.70734 -16.96705 -46.67617 -12.51516   \n",
              "4  -9.37636  12.63699  ...   9.92661  -55.95724  64.92712 -17.72522  -1.49237   \n",
              "\n",
              "         86         87        88         89        90  \n",
              "0 -23.08793   68.40795  -1.82223  -27.46348   2.26327  \n",
              "1 -32.22788   70.49388  12.04941   58.43453  26.92061  \n",
              "2  43.20130 -115.00698  -0.05859   39.67068  -0.66345  \n",
              "3  82.58061  -72.08993   9.90558  199.62971  18.85382  \n",
              "4  -7.50035   51.76631   7.88713   55.66926  28.74903  \n",
              "\n",
              "[5 rows x 91 columns]"
            ],
            "text/html": [
              "\n",
              "  <div id=\"df-9aee69f9-3038-469b-9f37-f12938c71866\" class=\"colab-df-container\">\n",
              "    <div>\n",
              "<style scoped>\n",
              "    .dataframe tbody tr th:only-of-type {\n",
              "        vertical-align: middle;\n",
              "    }\n",
              "\n",
              "    .dataframe tbody tr th {\n",
              "        vertical-align: top;\n",
              "    }\n",
              "\n",
              "    .dataframe thead th {\n",
              "        text-align: right;\n",
              "    }\n",
              "</style>\n",
              "<table border=\"1\" class=\"dataframe\">\n",
              "  <thead>\n",
              "    <tr style=\"text-align: right;\">\n",
              "      <th></th>\n",
              "      <th>0</th>\n",
              "      <th>1</th>\n",
              "      <th>2</th>\n",
              "      <th>3</th>\n",
              "      <th>4</th>\n",
              "      <th>5</th>\n",
              "      <th>6</th>\n",
              "      <th>7</th>\n",
              "      <th>8</th>\n",
              "      <th>9</th>\n",
              "      <th>...</th>\n",
              "      <th>81</th>\n",
              "      <th>82</th>\n",
              "      <th>83</th>\n",
              "      <th>84</th>\n",
              "      <th>85</th>\n",
              "      <th>86</th>\n",
              "      <th>87</th>\n",
              "      <th>88</th>\n",
              "      <th>89</th>\n",
              "      <th>90</th>\n",
              "    </tr>\n",
              "  </thead>\n",
              "  <tbody>\n",
              "    <tr>\n",
              "      <th>0</th>\n",
              "      <td>2001</td>\n",
              "      <td>49.94357</td>\n",
              "      <td>21.47114</td>\n",
              "      <td>73.07750</td>\n",
              "      <td>8.74861</td>\n",
              "      <td>-17.40628</td>\n",
              "      <td>-13.09905</td>\n",
              "      <td>-25.01202</td>\n",
              "      <td>-12.23257</td>\n",
              "      <td>7.83089</td>\n",
              "      <td>...</td>\n",
              "      <td>13.01620</td>\n",
              "      <td>-54.40548</td>\n",
              "      <td>58.99367</td>\n",
              "      <td>15.37344</td>\n",
              "      <td>1.11144</td>\n",
              "      <td>-23.08793</td>\n",
              "      <td>68.40795</td>\n",
              "      <td>-1.82223</td>\n",
              "      <td>-27.46348</td>\n",
              "      <td>2.26327</td>\n",
              "    </tr>\n",
              "    <tr>\n",
              "      <th>1</th>\n",
              "      <td>2001</td>\n",
              "      <td>48.73215</td>\n",
              "      <td>18.42930</td>\n",
              "      <td>70.32679</td>\n",
              "      <td>12.94636</td>\n",
              "      <td>-10.32437</td>\n",
              "      <td>-24.83777</td>\n",
              "      <td>8.76630</td>\n",
              "      <td>-0.92019</td>\n",
              "      <td>18.76548</td>\n",
              "      <td>...</td>\n",
              "      <td>5.66812</td>\n",
              "      <td>-19.68073</td>\n",
              "      <td>33.04964</td>\n",
              "      <td>42.87836</td>\n",
              "      <td>-9.90378</td>\n",
              "      <td>-32.22788</td>\n",
              "      <td>70.49388</td>\n",
              "      <td>12.04941</td>\n",
              "      <td>58.43453</td>\n",
              "      <td>26.92061</td>\n",
              "    </tr>\n",
              "    <tr>\n",
              "      <th>2</th>\n",
              "      <td>2001</td>\n",
              "      <td>50.95714</td>\n",
              "      <td>31.85602</td>\n",
              "      <td>55.81851</td>\n",
              "      <td>13.41693</td>\n",
              "      <td>-6.57898</td>\n",
              "      <td>-18.54940</td>\n",
              "      <td>-3.27872</td>\n",
              "      <td>-2.35035</td>\n",
              "      <td>16.07017</td>\n",
              "      <td>...</td>\n",
              "      <td>3.03800</td>\n",
              "      <td>26.05866</td>\n",
              "      <td>-50.92779</td>\n",
              "      <td>10.93792</td>\n",
              "      <td>-0.07568</td>\n",
              "      <td>43.20130</td>\n",
              "      <td>-115.00698</td>\n",
              "      <td>-0.05859</td>\n",
              "      <td>39.67068</td>\n",
              "      <td>-0.66345</td>\n",
              "    </tr>\n",
              "    <tr>\n",
              "      <th>3</th>\n",
              "      <td>2001</td>\n",
              "      <td>48.24750</td>\n",
              "      <td>-1.89837</td>\n",
              "      <td>36.29772</td>\n",
              "      <td>2.58776</td>\n",
              "      <td>0.97170</td>\n",
              "      <td>-26.21683</td>\n",
              "      <td>5.05097</td>\n",
              "      <td>-10.34124</td>\n",
              "      <td>3.55005</td>\n",
              "      <td>...</td>\n",
              "      <td>34.57337</td>\n",
              "      <td>-171.70734</td>\n",
              "      <td>-16.96705</td>\n",
              "      <td>-46.67617</td>\n",
              "      <td>-12.51516</td>\n",
              "      <td>82.58061</td>\n",
              "      <td>-72.08993</td>\n",
              "      <td>9.90558</td>\n",
              "      <td>199.62971</td>\n",
              "      <td>18.85382</td>\n",
              "    </tr>\n",
              "    <tr>\n",
              "      <th>4</th>\n",
              "      <td>2001</td>\n",
              "      <td>50.97020</td>\n",
              "      <td>42.20998</td>\n",
              "      <td>67.09964</td>\n",
              "      <td>8.46791</td>\n",
              "      <td>-15.85279</td>\n",
              "      <td>-16.81409</td>\n",
              "      <td>-12.48207</td>\n",
              "      <td>-9.37636</td>\n",
              "      <td>12.63699</td>\n",
              "      <td>...</td>\n",
              "      <td>9.92661</td>\n",
              "      <td>-55.95724</td>\n",
              "      <td>64.92712</td>\n",
              "      <td>-17.72522</td>\n",
              "      <td>-1.49237</td>\n",
              "      <td>-7.50035</td>\n",
              "      <td>51.76631</td>\n",
              "      <td>7.88713</td>\n",
              "      <td>55.66926</td>\n",
              "      <td>28.74903</td>\n",
              "    </tr>\n",
              "  </tbody>\n",
              "</table>\n",
              "<p>5 rows × 91 columns</p>\n",
              "</div>\n",
              "    <div class=\"colab-df-buttons\">\n",
              "\n",
              "  <div class=\"colab-df-container\">\n",
              "    <button class=\"colab-df-convert\" onclick=\"convertToInteractive('df-9aee69f9-3038-469b-9f37-f12938c71866')\"\n",
              "            title=\"Convert this dataframe to an interactive table.\"\n",
              "            style=\"display:none;\">\n",
              "\n",
              "  <svg xmlns=\"http://www.w3.org/2000/svg\" height=\"24px\" viewBox=\"0 -960 960 960\">\n",
              "    <path d=\"M120-120v-720h720v720H120Zm60-500h600v-160H180v160Zm220 220h160v-160H400v160Zm0 220h160v-160H400v160ZM180-400h160v-160H180v160Zm440 0h160v-160H620v160ZM180-180h160v-160H180v160Zm440 0h160v-160H620v160Z\"/>\n",
              "  </svg>\n",
              "    </button>\n",
              "\n",
              "  <style>\n",
              "    .colab-df-container {\n",
              "      display:flex;\n",
              "      gap: 12px;\n",
              "    }\n",
              "\n",
              "    .colab-df-convert {\n",
              "      background-color: #E8F0FE;\n",
              "      border: none;\n",
              "      border-radius: 50%;\n",
              "      cursor: pointer;\n",
              "      display: none;\n",
              "      fill: #1967D2;\n",
              "      height: 32px;\n",
              "      padding: 0 0 0 0;\n",
              "      width: 32px;\n",
              "    }\n",
              "\n",
              "    .colab-df-convert:hover {\n",
              "      background-color: #E2EBFA;\n",
              "      box-shadow: 0px 1px 2px rgba(60, 64, 67, 0.3), 0px 1px 3px 1px rgba(60, 64, 67, 0.15);\n",
              "      fill: #174EA6;\n",
              "    }\n",
              "\n",
              "    .colab-df-buttons div {\n",
              "      margin-bottom: 4px;\n",
              "    }\n",
              "\n",
              "    [theme=dark] .colab-df-convert {\n",
              "      background-color: #3B4455;\n",
              "      fill: #D2E3FC;\n",
              "    }\n",
              "\n",
              "    [theme=dark] .colab-df-convert:hover {\n",
              "      background-color: #434B5C;\n",
              "      box-shadow: 0px 1px 3px 1px rgba(0, 0, 0, 0.15);\n",
              "      filter: drop-shadow(0px 1px 2px rgba(0, 0, 0, 0.3));\n",
              "      fill: #FFFFFF;\n",
              "    }\n",
              "  </style>\n",
              "\n",
              "    <script>\n",
              "      const buttonEl =\n",
              "        document.querySelector('#df-9aee69f9-3038-469b-9f37-f12938c71866 button.colab-df-convert');\n",
              "      buttonEl.style.display =\n",
              "        google.colab.kernel.accessAllowed ? 'block' : 'none';\n",
              "\n",
              "      async function convertToInteractive(key) {\n",
              "        const element = document.querySelector('#df-9aee69f9-3038-469b-9f37-f12938c71866');\n",
              "        const dataTable =\n",
              "          await google.colab.kernel.invokeFunction('convertToInteractive',\n",
              "                                                    [key], {});\n",
              "        if (!dataTable) return;\n",
              "\n",
              "        const docLinkHtml = 'Like what you see? Visit the ' +\n",
              "          '<a target=\"_blank\" href=https://colab.research.google.com/notebooks/data_table.ipynb>data table notebook</a>'\n",
              "          + ' to learn more about interactive tables.';\n",
              "        element.innerHTML = '';\n",
              "        dataTable['output_type'] = 'display_data';\n",
              "        await google.colab.output.renderOutput(dataTable, element);\n",
              "        const docLink = document.createElement('div');\n",
              "        docLink.innerHTML = docLinkHtml;\n",
              "        element.appendChild(docLink);\n",
              "      }\n",
              "    </script>\n",
              "  </div>\n",
              "\n",
              "\n",
              "<div id=\"df-302733e2-e14a-4ef0-a49d-06fa4a171182\">\n",
              "  <button class=\"colab-df-quickchart\" onclick=\"quickchart('df-302733e2-e14a-4ef0-a49d-06fa4a171182')\"\n",
              "            title=\"Suggest charts.\"\n",
              "            style=\"display:none;\">\n",
              "\n",
              "<svg xmlns=\"http://www.w3.org/2000/svg\" height=\"24px\"viewBox=\"0 0 24 24\"\n",
              "     width=\"24px\">\n",
              "    <g>\n",
              "        <path d=\"M19 3H5c-1.1 0-2 .9-2 2v14c0 1.1.9 2 2 2h14c1.1 0 2-.9 2-2V5c0-1.1-.9-2-2-2zM9 17H7v-7h2v7zm4 0h-2V7h2v10zm4 0h-2v-4h2v4z\"/>\n",
              "    </g>\n",
              "</svg>\n",
              "  </button>\n",
              "\n",
              "<style>\n",
              "  .colab-df-quickchart {\n",
              "      --bg-color: #E8F0FE;\n",
              "      --fill-color: #1967D2;\n",
              "      --hover-bg-color: #E2EBFA;\n",
              "      --hover-fill-color: #174EA6;\n",
              "      --disabled-fill-color: #AAA;\n",
              "      --disabled-bg-color: #DDD;\n",
              "  }\n",
              "\n",
              "  [theme=dark] .colab-df-quickchart {\n",
              "      --bg-color: #3B4455;\n",
              "      --fill-color: #D2E3FC;\n",
              "      --hover-bg-color: #434B5C;\n",
              "      --hover-fill-color: #FFFFFF;\n",
              "      --disabled-bg-color: #3B4455;\n",
              "      --disabled-fill-color: #666;\n",
              "  }\n",
              "\n",
              "  .colab-df-quickchart {\n",
              "    background-color: var(--bg-color);\n",
              "    border: none;\n",
              "    border-radius: 50%;\n",
              "    cursor: pointer;\n",
              "    display: none;\n",
              "    fill: var(--fill-color);\n",
              "    height: 32px;\n",
              "    padding: 0;\n",
              "    width: 32px;\n",
              "  }\n",
              "\n",
              "  .colab-df-quickchart:hover {\n",
              "    background-color: var(--hover-bg-color);\n",
              "    box-shadow: 0 1px 2px rgba(60, 64, 67, 0.3), 0 1px 3px 1px rgba(60, 64, 67, 0.15);\n",
              "    fill: var(--button-hover-fill-color);\n",
              "  }\n",
              "\n",
              "  .colab-df-quickchart-complete:disabled,\n",
              "  .colab-df-quickchart-complete:disabled:hover {\n",
              "    background-color: var(--disabled-bg-color);\n",
              "    fill: var(--disabled-fill-color);\n",
              "    box-shadow: none;\n",
              "  }\n",
              "\n",
              "  .colab-df-spinner {\n",
              "    border: 2px solid var(--fill-color);\n",
              "    border-color: transparent;\n",
              "    border-bottom-color: var(--fill-color);\n",
              "    animation:\n",
              "      spin 1s steps(1) infinite;\n",
              "  }\n",
              "\n",
              "  @keyframes spin {\n",
              "    0% {\n",
              "      border-color: transparent;\n",
              "      border-bottom-color: var(--fill-color);\n",
              "      border-left-color: var(--fill-color);\n",
              "    }\n",
              "    20% {\n",
              "      border-color: transparent;\n",
              "      border-left-color: var(--fill-color);\n",
              "      border-top-color: var(--fill-color);\n",
              "    }\n",
              "    30% {\n",
              "      border-color: transparent;\n",
              "      border-left-color: var(--fill-color);\n",
              "      border-top-color: var(--fill-color);\n",
              "      border-right-color: var(--fill-color);\n",
              "    }\n",
              "    40% {\n",
              "      border-color: transparent;\n",
              "      border-right-color: var(--fill-color);\n",
              "      border-top-color: var(--fill-color);\n",
              "    }\n",
              "    60% {\n",
              "      border-color: transparent;\n",
              "      border-right-color: var(--fill-color);\n",
              "    }\n",
              "    80% {\n",
              "      border-color: transparent;\n",
              "      border-right-color: var(--fill-color);\n",
              "      border-bottom-color: var(--fill-color);\n",
              "    }\n",
              "    90% {\n",
              "      border-color: transparent;\n",
              "      border-bottom-color: var(--fill-color);\n",
              "    }\n",
              "  }\n",
              "</style>\n",
              "\n",
              "  <script>\n",
              "    async function quickchart(key) {\n",
              "      const quickchartButtonEl =\n",
              "        document.querySelector('#' + key + ' button');\n",
              "      quickchartButtonEl.disabled = true;  // To prevent multiple clicks.\n",
              "      quickchartButtonEl.classList.add('colab-df-spinner');\n",
              "      try {\n",
              "        const charts = await google.colab.kernel.invokeFunction(\n",
              "            'suggestCharts', [key], {});\n",
              "      } catch (error) {\n",
              "        console.error('Error during call to suggestCharts:', error);\n",
              "      }\n",
              "      quickchartButtonEl.classList.remove('colab-df-spinner');\n",
              "      quickchartButtonEl.classList.add('colab-df-quickchart-complete');\n",
              "    }\n",
              "    (() => {\n",
              "      let quickchartButtonEl =\n",
              "        document.querySelector('#df-302733e2-e14a-4ef0-a49d-06fa4a171182 button');\n",
              "      quickchartButtonEl.style.display =\n",
              "        google.colab.kernel.accessAllowed ? 'block' : 'none';\n",
              "    })();\n",
              "  </script>\n",
              "</div>\n",
              "    </div>\n",
              "  </div>\n"
            ]
          },
          "metadata": {},
          "execution_count": 3
        }
      ],
      "source": [
        "df = pd.read_csv('data.txt.zip', header=None)\n",
        "df.head()"
      ]
    },
    {
      "cell_type": "markdown",
      "metadata": {
        "id": "N9a-eJUG35C3"
      },
      "source": [
        "Мы вывели кусок данных, чтобы понять, насколько они пригодны для работы без изменений. Здесь ясно, что сомнительно дальше с такими данными работать, потому что как минимум есть отрицательные значения, которые не отмасштабированы, кроме того еще сразу бросается в глаза совсем разная размерность, где-то видим реально большие числа, а где-то 0.075. Ясно, что будем скейлить."
      ]
    },
    {
      "cell_type": "code",
      "execution_count": null,
      "metadata": {
        "id": "n4wnRJT1778j"
      },
      "outputs": [],
      "source": [
        "X = df.iloc[:, 1:].values\n",
        "y = df.iloc[:, 0].values\n",
        "\n",
        "train_size = 463715\n",
        "X_train = X[:train_size, :]\n",
        "y_train = y[:train_size]\n",
        "X_test = X[train_size:, :]\n",
        "y_test = y[train_size:]"
      ]
    },
    {
      "cell_type": "markdown",
      "metadata": {
        "id": "_386JE_o5gOd"
      },
      "source": [
        "## Задание 0. (0 баллов, но при невыполнении максимум за все задание &mdash; 0 баллов)\n",
        "\n",
        "Мы будем использовать RMSE как метрику качества. Для самого первого бейзлайна обучите `Ridge` регрессию из `sklearn`. Кроме того, посчитайте качество при наилучшем константном прогнозе.\n",
        "\n",
        "Для выполнения данного задания (и всех последующих) предобработайте данные.\n",
        "\n",
        "1. Зафиксируйте random_seed везде где только возможно. Вам предоставлена функция для этого, однако вы можете дополнить ее своими дополнениями\n",
        "2. Обучите StandertScaler и предобработайте ваши данные. В следующих заданиях можете использовать другой scaler или вообще отказаться от него\n"
      ]
    },
    {
      "cell_type": "code",
      "execution_count": null,
      "metadata": {
        "id": "1kV-kCVs8Aju"
      },
      "outputs": [],
      "source": [
        "from sklearn.preprocessing import StandardScaler\n",
        "from sklearn.linear_model import Ridge, Lasso\n",
        "from sklearn.metrics import mean_squared_error, make_scorer\n",
        "from sklearn.model_selection import GridSearchCV\n",
        "\n",
        "\n",
        "scaler = StandardScaler()"
      ]
    },
    {
      "cell_type": "code",
      "execution_count": null,
      "metadata": {
        "id": "lkfkXylb8U-O"
      },
      "outputs": [],
      "source": [
        "def set_random_seed(seed):\n",
        "    torch.backends.cudnn.deterministic = True\n",
        "    torch.manual_seed(seed)\n",
        "    torch.cuda.manual_seed(seed)\n",
        "    np.random.seed(seed)\n",
        "    random.seed(seed)\n",
        "    # Add smth here if you need..."
      ]
    },
    {
      "cell_type": "code",
      "execution_count": null,
      "metadata": {
        "id": "GKVVatBw8cH7"
      },
      "outputs": [],
      "source": [
        "set_random_seed(42)"
      ]
    },
    {
      "cell_type": "code",
      "source": [
        "X_train_scaled = scaler.fit_transform(X_train)\n",
        "X_test_scaled = scaler.transform(X_test)"
      ],
      "metadata": {
        "id": "J3SBDpswC4q2"
      },
      "execution_count": null,
      "outputs": []
    },
    {
      "cell_type": "code",
      "source": [
        "clf_ridge = Ridge(alpha = 1)\n",
        "clf_ridge.fit(X_train_scaled, y_train)\n",
        "alphas =  [0.01, 0.1, 0.3, 0.5, 0.8, 1, 1.5, 3, 8, 12, 20]"
      ],
      "metadata": {
        "id": "aEpzPNZsEADf"
      },
      "execution_count": null,
      "outputs": []
    },
    {
      "cell_type": "code",
      "source": [
        "for alpha in alphas:\n",
        "    clf_ridge = Ridge(alpha = alpha)\n",
        "    clf_ridge.fit(X_train_scaled, y_train)\n",
        "    rmse_ridge = mean_squared_error(y_test, clf_ridge.predict(X_test_scaled), squared=False)\n",
        "    print('Ridge alpha:', alpha, 'rmse:', rmse_ridge)"
      ],
      "metadata": {
        "colab": {
          "base_uri": "https://localhost:8080/"
        },
        "id": "hSFiRm5cDB3e",
        "outputId": "9da77e7e-310b-4c26-9f46-7b2bb3c6d99a"
      },
      "execution_count": null,
      "outputs": [
        {
          "output_type": "stream",
          "name": "stdout",
          "text": [
            "Ridge alpha: 0.01 rmse: 9.510160708617835\n",
            "Ridge alpha: 0.1 rmse: 9.510160718781293\n",
            "Ridge alpha: 0.3 rmse: 9.510160741370306\n",
            "Ridge alpha: 0.5 rmse: 9.510160763964219\n",
            "Ridge alpha: 0.8 rmse: 9.510160797864275\n",
            "Ridge alpha: 1 rmse: 9.510160820470436\n",
            "Ridge alpha: 1.5 rmse: 9.51016087700727\n",
            "Ridge alpha: 3 rmse: 9.510161046801462\n",
            "Ridge alpha: 8 rmse: 9.510161614771647\n",
            "Ridge alpha: 12 rmse: 9.510162071350832\n",
            "Ridge alpha: 20 rmse: 9.510162990380705\n"
          ]
        }
      ]
    },
    {
      "cell_type": "code",
      "execution_count": null,
      "metadata": {
        "id": "uv7qthu935C4",
        "colab": {
          "base_uri": "https://localhost:8080/"
        },
        "outputId": "3e8f0c09-da1b-4be5-9991-b2722de51c7a"
      },
      "outputs": [
        {
          "output_type": "execute_result",
          "data": {
            "text/plain": [
              "9.510160708617835"
            ]
          },
          "metadata": {},
          "execution_count": 11
        }
      ],
      "source": [
        "model = Ridge(alpha=0.01)\n",
        "model.fit(X_train_scaled, y_train)\n",
        "rmse_for_model = mean_squared_error(y_test, model.predict(X_test_scaled), squared=False)\n",
        "rmse_for_model"
      ]
    },
    {
      "cell_type": "markdown",
      "metadata": {
        "id": "HJKGuhFi35C4"
      },
      "source": [
        "Лучшая константа для RMSE это среднее, посчитаем значение метрики при нем"
      ]
    },
    {
      "cell_type": "code",
      "source": [
        "avg = np.mean(model.predict(X_test_scaled))\n",
        "constant_baseline = np.array([avg] * len(y_test))\n",
        "avg"
      ],
      "metadata": {
        "colab": {
          "base_uri": "https://localhost:8080/"
        },
        "id": "DlUWyRwHUdC6",
        "outputId": "00e1398f-c162-4ed0-9832-73be238832c4"
      },
      "execution_count": null,
      "outputs": [
        {
          "output_type": "execute_result",
          "data": {
            "text/plain": [
              "1998.480317655283"
            ]
          },
          "metadata": {},
          "execution_count": 12
        }
      ]
    },
    {
      "cell_type": "code",
      "execution_count": null,
      "metadata": {
        "id": "kOcFuy1P35C4",
        "colab": {
          "base_uri": "https://localhost:8080/"
        },
        "outputId": "7c241622-cfef-4a56-ea66-1100552914ac"
      },
      "outputs": [
        {
          "output_type": "execute_result",
          "data": {
            "text/plain": [
              "10.851920805547868"
            ]
          },
          "metadata": {},
          "execution_count": 13
        }
      ],
      "source": [
        "best_rmse_metric = mean_squared_error(y_test, constant_baseline, squared=False)\n",
        "best_rmse_metric"
      ]
    },
    {
      "cell_type": "markdown",
      "metadata": {
        "id": "BDHAnIkS8vNY"
      },
      "source": [
        "## Задание 1. (максимум 10 баллов)\n",
        "\n",
        "Закрепите свои знания о том, как pytorch работает с обратным распространением ошибки, проделав следующие шаги:\n",
        "\n",
        "1. Создайте модель линейной регрессии, которая будет состоять только из одного Linear слоя.\n",
        "2. Напишите цикл обучения вашей линейной регрессии. В нем реализуйте подсчет функции потерь, сделайте шаг градиентного спуска. Запрещено использовать готовые оптимизаторы и loss-функции из библиотеки pytorch. Для подсчета градиента воспользуйтесь методом backward.\n",
        "3. Запустите обучение на 10 эпохах, после каждой проверяйте значение целевой метрики на тестовой выборке.\n",
        "4. Выведите на экран графики метрики и значения функции потерь на тестовой и обучающей выборке.\n",
        "\n",
        "В данном задании нет цели побить какой-то порог по метрике. Ваша задача - убедиться в том, что ваш рукописный цикл обучения работает. Для ускорения вычислений и обучения модели можете брать только срез данных, а не весь датасет."
      ]
    },
    {
      "cell_type": "code",
      "source": [
        "from torch import nn\n",
        "from tqdm import tqdm"
      ],
      "metadata": {
        "id": "Iex5M1xKWL0o"
      },
      "execution_count": null,
      "outputs": []
    },
    {
      "cell_type": "code",
      "source": [
        "X_train_scaled  = torch.tensor(X_train_scaled[:30000])\n",
        "X_test_scaled = torch.tensor(X_test_scaled[:6000])\n",
        "y_train = torch.tensor(y_train[:30000], dtype=torch.float64)\n",
        "y_test = torch.tensor(y_test[:6000], dtype=torch.float64)"
      ],
      "metadata": {
        "id": "aQhG46B4LUXW"
      },
      "execution_count": null,
      "outputs": []
    },
    {
      "cell_type": "code",
      "source": [
        "X_train_scaled = torch.column_stack([X_train_scaled, torch.tensor([1] * X_train_scaled.shape[0])])\n",
        "X_test_scaled = torch.column_stack([X_test_scaled, torch.tensor([1] * X_test_scaled.shape[0])])"
      ],
      "metadata": {
        "id": "Wa96b09yPWF0"
      },
      "execution_count": null,
      "outputs": []
    },
    {
      "cell_type": "code",
      "execution_count": null,
      "metadata": {
        "id": "LxnT6G1J-apf"
      },
      "outputs": [],
      "source": [
        "# ⸂⸂⸜(രᴗര๑)⸝⸃⸃ Good luck!"
      ]
    },
    {
      "cell_type": "code",
      "source": [
        "w = torch.tensor([1] * 91, dtype=torch.float64, requires_grad=True)\n",
        "lr = 1\n",
        "loss_test_list = []\n",
        "loss_train_list = []\n",
        "x = list(range(1, 11))"
      ],
      "metadata": {
        "id": "BndDgV6nFnwo"
      },
      "execution_count": null,
      "outputs": []
    },
    {
      "cell_type": "code",
      "source": [
        "for epoch in range(10):\n",
        "    for i in range(1000):\n",
        "        loss = torch.sqrt(torch.mean((X_train_scaled.matmul(w) - y_train) ** 2))\n",
        "        loss.backward()\n",
        "        grad = w.grad\n",
        "        w.data -= lr * grad\n",
        "        w.grad.data.zero_()\n",
        "    loss_train = torch.sqrt(torch.mean((X_train_scaled.matmul(w) - y_train) ** 2))\n",
        "    loss_test = torch.sqrt(torch.mean((X_test_scaled.matmul(w) - y_test) ** 2))\n",
        "    loss_test_list.append(loss_test.data)\n",
        "    loss_train_list.append(loss_train.data)\n",
        "    print(\"loss_train =\", loss_train.data)\n",
        "    print(\"loss_test =\", loss_test.data)\n",
        "    if epoch % 2 == 0:\n",
        "        lr /= 2"
      ],
      "metadata": {
        "colab": {
          "base_uri": "https://localhost:8080/"
        },
        "id": "ooXFMgwCcNc7",
        "outputId": "a107366d-c500-46a2-89c9-2aa0787de091"
      },
      "execution_count": null,
      "outputs": [
        {
          "output_type": "stream",
          "name": "stdout",
          "text": [
            "loss_train = tensor(994.7119, dtype=torch.float64)\n",
            "loss_test = tensor(996.4884, dtype=torch.float64)\n",
            "loss_train = tensor(498.8927, dtype=torch.float64)\n",
            "loss_test = tensor(501.0685, dtype=torch.float64)\n",
            "loss_train = tensor(22.0405, dtype=torch.float64)\n",
            "loss_test = tensor(22.0094, dtype=torch.float64)\n",
            "loss_train = tensor(9.3916, dtype=torch.float64)\n",
            "loss_test = tensor(9.2503, dtype=torch.float64)\n",
            "loss_train = tensor(9.3808, dtype=torch.float64)\n",
            "loss_test = tensor(9.2360, dtype=torch.float64)\n",
            "loss_train = tensor(9.3807, dtype=torch.float64)\n",
            "loss_test = tensor(9.2348, dtype=torch.float64)\n",
            "loss_train = tensor(9.3807, dtype=torch.float64)\n",
            "loss_test = tensor(9.2343, dtype=torch.float64)\n",
            "loss_train = tensor(9.3807, dtype=torch.float64)\n",
            "loss_test = tensor(9.2342, dtype=torch.float64)\n",
            "loss_train = tensor(9.3807, dtype=torch.float64)\n",
            "loss_test = tensor(9.2341, dtype=torch.float64)\n",
            "loss_train = tensor(9.3807, dtype=torch.float64)\n",
            "loss_test = tensor(9.2341, dtype=torch.float64)\n"
          ]
        }
      ]
    },
    {
      "cell_type": "code",
      "source": [
        "plt.plot(x, loss_train_list)\n",
        "plt.plot(x, loss_test_list)\n",
        "plt.legend(['train', 'test'])\n",
        "plt.title('Loss by epoch')\n",
        "plt.xlabel('epoch')\n",
        "plt.ylabel('loss');"
      ],
      "metadata": {
        "colab": {
          "base_uri": "https://localhost:8080/",
          "height": 472
        },
        "id": "yhabs5r0LlQM",
        "outputId": "6c5d1d67-388b-4c5d-fb73-8c0c636d2f33"
      },
      "execution_count": null,
      "outputs": [
        {
          "output_type": "display_data",
          "data": {
            "text/plain": [
              "<Figure size 640x480 with 1 Axes>"
            ],
            "image/png": "[encoded data removed]"
          },
          "metadata": {}
        }
      ]
    },
    {
      "cell_type": "markdown",
      "metadata": {
        "id": "_6ilBKYt6OdD"
      },
      "source": [
        "## Задание 2. (максимум 10 баллов)\n",
        "\n",
        "Реализуйте обучение и тестирование нейронной сети для предоставленного вам набора данных. Соотношение между полученным значением метрики на тестовой выборке и баллами за задание следующее:\n",
        "\n",
        "- $\\text{RMSE} \\le 9.00 $ &mdash; 4 балла\n",
        "- $\\text{RMSE} \\le 8.90 $ &mdash; 6 баллов\n",
        "- $\\text{RMSE} \\le 8.80 $ &mdash; 8 баллов\n",
        "- $\\text{RMSE} \\le 8.75 $ &mdash; 10 баллов\n",
        "\n",
        "Есть несколько правил, которых вам нужно придерживаться:\n",
        "\n",
        "- Весь пайплайн обучения должен быть написан на PyTorch. При этом вы можете пользоваться другими библиотеками (`numpy`, `sklearn` и пр.), но только для обработки данных. То есть как угодно трансформировать данные и считать метрики с помощью этих библиотек можно, а импортировать модели из `sklearn` и выбивать с их помощью требуемое качество &mdash; нельзя. Также нельзя пользоваться библиотеками, для которых сам PyTorch является зависимостью.\n",
        "\n",
        "- Мы никак не ограничиваем ваш выбор архитектуры модели, но скорее всего вам будет достаточно полносвязной нейронной сети.\n",
        "\n",
        "- Для обучения запрещается использовать какие-либо иные данные, кроме обучающей выборки.\n",
        "\n",
        "- Ансамблирование моделей запрещено.\n",
        "\n",
        "### Полезные советы:\n",
        "\n",
        "- Очень вряд ли, что у вас с первого раза получится выбить качество на 10 баллов, поэтому пробуйте разные архитектуры, оптимизаторы и значения гиперпараметров. В идеале при запуске каждого нового эксперимента вы должны менять что-то одно, чтобы точно знать, как этот фактор влияет на качество.\n",
        "\n",
        "- Не забудьте, что для улучшения качества модели вам поможет **нормировка таргета**.\n",
        "\n",
        "- Тот факт, что мы занимаемся глубинным обучением, не означает, что стоит забывать про приемы, использующиеся в классическом машинном обучении. Так что обязательно проводите исследовательский анализ данных, отрисовывайте нужные графики и не забывайте про масштабирование и подбор гиперпараметров.\n",
        "\n",
        "- Вы наверняка столкнетесь с тем, что ваша нейронная сеть будет сильно переобучаться. Для нейросетей существуют специальные методы регуляризации, например, dropout ([статья](https://jmlr.org/papers/volume15/srivastava14a/srivastava14a.pdf)) и weight decay ([блогпост](https://towardsdatascience.com/weight-decay-l2-regularization-90a9e17713cd)). Они, разумеется, реализованы в PyTorch. Попробуйте поэкспериментировать с ними.\n",
        "\n",
        "- Если вы чего-то не знаете, не гнушайтесь гуглить. В интернете очень много полезной информации, туториалов и советов по глубинному обучению в целом и по PyTorch в частности. Но не забывайте, что за скатанный код без ссылки на источник придется ответить по всей строгости!\n",
        "\n",
        "- Если вы сразу реализуете обучение на GPU, то у вас будет больше времени на эксперименты, так как любые вычисления будут работать быстрее. Google Colab предоставляет несколько GPU-часов (обычно около 8-10) в сутки бесплатно.\n",
        "\n",
        "- Чтобы отладить код, можете обучаться на небольшой части данных или даже на одном батче. Если лосс на обучающей выборке не падает, то что-то точно идет не так!\n",
        "\n",
        "- Пользуйтесь утилитами, которые вам предоставляет PyTorch (например, Dataset и Dataloader). Их специально разработали для упрощения разработки пайплайна обучения.\n",
        "\n",
        "- Скорее всего вы захотите отслеживать прогресс обучения. Для создания прогресс-баров есть удобная библиотека `tqdm`.\n",
        "\n",
        "- Быть может, вы захотите, чтобы графики рисовались прямо во время обучения. Можете воспользоваться функцией [clear_output](http://ipython.org/ipython-doc/dev/api/generated/IPython.display.html#IPython.display.clear_output), чтобы удалять старый график и рисовать новый на его месте.\n",
        "\n",
        "**ОБЯЗАТЕЛЬНО** рисуйте графики зависимости лосса/метрики на обучающей и тестовой выборках в зависимости от времени обучения. Если обучение занимает относительно небольшое число эпох, то лучше рисовать зависимость от номера шага обучения, если же эпох больше, то рисуйте зависимость по эпохам. Если проверяющий не увидит такого графика для вашей лучшей модели, то он в праве снизить баллы за задание.\n",
        "\n",
        "**ВАЖНО!** Ваше решение должно быть воспроизводимым. Если это не так, то проверяющий имеет право снизить баллы за задание. Чтобы зафиксировать random seed, воспользуйтесь функцией из предыдущего задания.\n",
        "\n"
      ]
    },
    {
      "cell_type": "markdown",
      "metadata": {
        "id": "TZW0gMe3vT8u"
      },
      "source": [
        "Вы можете придерживаться любой адекватной струкуры кода, но мы советуем воспользоваться сигнатурами функций, которые приведены ниже. Лучше всего, если вы проверите ваши предсказания ассертом: так вы убережете себя от разных косяков, например, что вектор предсказаний состоит из всего одного числа. В любом случае, внимательно следите за тем, для каких тензоров вы считаете метрику RMSE. При случайном или намеренном введении в заблуждение проверяющие очень сильно разозлятся."
      ]
    },
    {
      "cell_type": "code",
      "source": [
        "from torch.utils.data import DataLoader\n",
        "from torch.nn import functional as F\n",
        "import warnings\n",
        "warnings.filterwarnings(\"ignore\")"
      ],
      "metadata": {
        "id": "kX7jEqqUUmNL"
      },
      "execution_count": null,
      "outputs": []
    },
    {
      "cell_type": "code",
      "source": [
        "class Our_Dataset(torch.utils.data.Dataset):\n",
        "    \"\"\"\n",
        "    Our dataset\n",
        "    \"\"\"\n",
        "\n",
        "    def __init__(self, x, y):\n",
        "        self.x = x\n",
        "        self.y = y\n",
        "\n",
        "    def __len__(self):\n",
        "        return len(self.x)\n",
        "\n",
        "    def __getitem__(self, idx):\n",
        "        return (\n",
        "            self.x[idx, :].clone().detach(),\n",
        "            self.y[idx].clone().detach()\n",
        "        )"
      ],
      "metadata": {
        "id": "NByacKQNa-zq"
      },
      "execution_count": null,
      "outputs": []
    },
    {
      "cell_type": "code",
      "source": [
        "X_train = X[:train_size, :]\n",
        "y_train = y[:train_size]\n",
        "X_test = X[train_size:, :]\n",
        "y_test = y[train_size:]"
      ],
      "metadata": {
        "id": "lJHfPLAjpfqd"
      },
      "execution_count": null,
      "outputs": []
    },
    {
      "cell_type": "code",
      "source": [
        "X_train_scaled = torch.tensor(scaler.fit_transform(X_train))\n",
        "X_test_scaled = torch.tensor(scaler.transform(X_test))\n",
        "\n",
        "y_train_torch = torch.tensor(y_train)\n",
        "y_test_torch = torch.tensor(y_test)"
      ],
      "metadata": {
        "id": "VVf_zEJjqNVc"
      },
      "execution_count": null,
      "outputs": []
    },
    {
      "cell_type": "code",
      "execution_count": null,
      "metadata": {
        "id": "DM5QLvU7_obd"
      },
      "outputs": [],
      "source": [
        "train_set = Our_Dataset(X_train_scaled, y_train_torch)\n",
        "train_loader = DataLoader(train_set, batch_size=64, shuffle=True)\n",
        "\n",
        "test_set = Our_Dataset(X_test_scaled, y_test_torch)\n",
        "test_loader = DataLoader(test_set, batch_size=64, shuffle=False)"
      ]
    },
    {
      "cell_type": "code",
      "source": [
        "def RMSE(y_1, y_2):\n",
        "    return torch.sqrt(torch.mean((y_1 - y_2) ** 2))"
      ],
      "metadata": {
        "id": "yyOFJDW9wvuh"
      },
      "execution_count": null,
      "outputs": []
    },
    {
      "cell_type": "code",
      "execution_count": null,
      "metadata": {
        "id": "B3o4nf8C_obd"
      },
      "outputs": [],
      "source": [
        "def train(model, optimizer, criterion, train_loader, test_loader):\n",
        "    \"\"\"\n",
        "    params:\n",
        "        model - torch.nn.Module to be fitted\n",
        "        optimizer - model optimizer\n",
        "        criterion - loss function from torch.nn\n",
        "        train_loader - torch.utils.data.Dataloader with train set\n",
        "        test_loader - torch.utils.data.Dataloader with test set\n",
        "                      (if you wish to validate during training)\n",
        "    \"\"\"\n",
        "    # YOUR CODE HERE (－.－)...zzzZZZzzzZZZ\n",
        "    test_loss = []\n",
        "\n",
        "    train_loss = []\n",
        "\n",
        "    for epoch in range(10):\n",
        "        temp_train_loss = []\n",
        "        for x_train, y_train in tqdm(train_loader):  # берем батч из трейн лоадера\n",
        "            y_pred = model(torch.tensor(x_train, dtype=torch.float))  # делаем предсказания\n",
        "            loss = criterion(y_pred, y_train)  # считаем лосс\n",
        "            temp_train_loss.append(loss.detach().cpu().numpy())\n",
        "            loss.backward()  # считаем градиенты обратным проходом\n",
        "            optimizer.step()  # обновляем параметры сети\n",
        "            optimizer.zero_grad()  # обнуляем посчитанные градиенты параметров\n",
        "        train_loss.append(np.mean(temp_train_loss))\n",
        "\n",
        "        val_loss = []  # сюда будем складывать **средний по бачу** лосс\n",
        "        with torch.no_grad():  # на валидации запрещаем фреймворку считать градиенты по параметрам\n",
        "            for x_val, y_val in tqdm(test_loader):  # берем батч из валидационного лоадера\n",
        "                y_pred = model(torch.tensor(x_val, dtype=torch.float))  # делаем предсказания\n",
        "                loss = criterion(y_pred, y_val)  # считаем лосс\n",
        "                val_loss.append(loss.cpu().numpy())  # добавляем в массив\n",
        "        test_loss.append(np.mean(val_loss))\n",
        "\n",
        "        # печатаем метрики\n",
        "        print(\n",
        "            f\"Epoch: {epoch}, loss: {np.mean(val_loss)}\"\n",
        "        )\n",
        "        if np.mean(val_loss) <= 8.75:\n",
        "          break\n",
        "\n",
        "    return train_loss, test_loss\n"
      ]
    },
    {
      "cell_type": "markdown",
      "source": [
        "Бахнем в лоб нейронную сеть, с тремя FC слоями и двумя нелинейностями и без нормировки таргета."
      ],
      "metadata": {
        "id": "VGc8lbsEHE1r"
      }
    },
    {
      "cell_type": "code",
      "source": [
        "model = nn.Sequential(\n",
        "    nn.Linear(\n",
        "        90, 200\n",
        "    ),\n",
        "    nn.ReLU(),\n",
        "    nn.Linear(\n",
        "        200, 100\n",
        "    ),\n",
        "    nn.ReLU(),\n",
        "    nn.Linear(\n",
        "        100, 1\n",
        "    )\n",
        ")\n",
        "optimizer = torch.optim.SGD(model.parameters(), lr=0.01, momentum=0.9)\n",
        "losses = train(model, optimizer, RMSE, train_loader, test_loader)"
      ],
      "metadata": {
        "colab": {
          "base_uri": "https://localhost:8080/"
        },
        "id": "zJl44VO2xLmW",
        "outputId": "985fe505-4e97-4775-cbac-f59d081a0209"
      },
      "execution_count": null,
      "outputs": [
        {
          "output_type": "stream",
          "name": "stderr",
          "text": [
            "100%|██████████| 7246/7246 [00:16<00:00, 436.13it/s]\n",
            "100%|██████████| 807/807 [00:01<00:00, 757.08it/s]\n"
          ]
        },
        {
          "output_type": "stream",
          "name": "stdout",
          "text": [
            "Epoch: 0, loss: 968.8187255859375\n"
          ]
        },
        {
          "output_type": "stream",
          "name": "stderr",
          "text": [
            "100%|██████████| 7246/7246 [00:15<00:00, 460.41it/s]\n",
            "100%|██████████| 807/807 [00:01<00:00, 755.01it/s]\n"
          ]
        },
        {
          "output_type": "stream",
          "name": "stdout",
          "text": [
            "Epoch: 1, loss: 1252.6663818359375\n"
          ]
        },
        {
          "output_type": "stream",
          "name": "stderr",
          "text": [
            "100%|██████████| 7246/7246 [00:15<00:00, 455.42it/s]\n",
            "100%|██████████| 807/807 [00:01<00:00, 773.37it/s]\n"
          ]
        },
        {
          "output_type": "stream",
          "name": "stdout",
          "text": [
            "Epoch: 2, loss: 528.5518188476562\n"
          ]
        },
        {
          "output_type": "stream",
          "name": "stderr",
          "text": [
            "100%|██████████| 7246/7246 [00:15<00:00, 459.69it/s]\n",
            "100%|██████████| 807/807 [00:01<00:00, 771.87it/s]\n"
          ]
        },
        {
          "output_type": "stream",
          "name": "stdout",
          "text": [
            "Epoch: 3, loss: 9.664801597595215\n"
          ]
        },
        {
          "output_type": "stream",
          "name": "stderr",
          "text": [
            "100%|██████████| 7246/7246 [00:16<00:00, 450.42it/s]\n",
            "100%|██████████| 807/807 [00:01<00:00, 779.24it/s]\n"
          ]
        },
        {
          "output_type": "stream",
          "name": "stdout",
          "text": [
            "Epoch: 4, loss: 9.686532974243164\n"
          ]
        },
        {
          "output_type": "stream",
          "name": "stderr",
          "text": [
            "100%|██████████| 7246/7246 [00:15<00:00, 461.20it/s]\n",
            "100%|██████████| 807/807 [00:01<00:00, 763.69it/s]\n"
          ]
        },
        {
          "output_type": "stream",
          "name": "stdout",
          "text": [
            "Epoch: 5, loss: 9.625381469726562\n"
          ]
        },
        {
          "output_type": "stream",
          "name": "stderr",
          "text": [
            "100%|██████████| 7246/7246 [00:16<00:00, 430.32it/s]\n",
            "100%|██████████| 807/807 [00:01<00:00, 735.71it/s]\n"
          ]
        },
        {
          "output_type": "stream",
          "name": "stdout",
          "text": [
            "Epoch: 6, loss: 9.643107414245605\n"
          ]
        },
        {
          "output_type": "stream",
          "name": "stderr",
          "text": [
            "100%|██████████| 7246/7246 [00:16<00:00, 447.62it/s]\n",
            "100%|██████████| 807/807 [00:01<00:00, 751.80it/s]\n"
          ]
        },
        {
          "output_type": "stream",
          "name": "stdout",
          "text": [
            "Epoch: 7, loss: 9.645556449890137\n"
          ]
        },
        {
          "output_type": "stream",
          "name": "stderr",
          "text": [
            "100%|██████████| 7246/7246 [00:16<00:00, 450.24it/s]\n",
            "100%|██████████| 807/807 [00:01<00:00, 587.89it/s]\n"
          ]
        },
        {
          "output_type": "stream",
          "name": "stdout",
          "text": [
            "Epoch: 8, loss: 9.68610668182373\n"
          ]
        },
        {
          "output_type": "stream",
          "name": "stderr",
          "text": [
            "100%|██████████| 7246/7246 [00:15<00:00, 453.80it/s]\n",
            "100%|██████████| 807/807 [00:01<00:00, 735.13it/s]\n"
          ]
        },
        {
          "output_type": "stream",
          "name": "stdout",
          "text": [
            "Epoch: 9, loss: 9.626315116882324\n"
          ]
        },
        {
          "output_type": "stream",
          "name": "stderr",
          "text": [
            "100%|██████████| 7246/7246 [00:16<00:00, 444.27it/s]\n",
            "100%|██████████| 807/807 [00:01<00:00, 531.75it/s]"
          ]
        },
        {
          "output_type": "stream",
          "name": "stdout",
          "text": [
            "Epoch: 10, loss: 9.646637916564941\n"
          ]
        },
        {
          "output_type": "stream",
          "name": "stderr",
          "text": [
            "\n"
          ]
        }
      ]
    },
    {
      "cell_type": "code",
      "source": [
        "x = list(range(1, len(losses[0]) + 1))\n",
        "plt.plot(x, losses[0])\n",
        "plt.plot(x, losses[1])\n",
        "plt.legend(['train_loss', 'test_loss'])\n",
        "plt.xlabel('epoch')\n",
        "plt.ylabel('loss')\n",
        "plt.title('Naive NN');"
      ],
      "metadata": {
        "colab": {
          "base_uri": "https://localhost:8080/",
          "height": 472
        },
        "id": "eFw6Qj47Ak1G",
        "outputId": "ed953cb5-e4b9-4e99-8c16-1c4b8bafec4d"
      },
      "execution_count": null,
      "outputs": [
        {
          "output_type": "display_data",
          "data": {
            "text/plain": [
              "<Figure size 640x480 with 1 Axes>"
            ],
            "image/png": "[encoded data removed]"
          },
          "metadata": {}
        }
      ]
    },
    {
      "cell_type": "markdown",
      "source": [
        "Дальше я проделал следующие операции:\n",
        "1. Нормировка таргета\n",
        "2. Уменьшил batch_size до 32\n",
        "3. Добавил Dropout\n",
        "4. Установил momentum = 0.5\n",
        "5. Добавил Batchnorm\n",
        "\n",
        "**Итог:** На девятой эпохе получил лосс 9.13\n",
        "\n",
        "P.S. Пока все еще использую SGD оптимизатор"
      ],
      "metadata": {
        "id": "4Glheu5AHRR3"
      }
    },
    {
      "cell_type": "code",
      "source": [
        "y_train_torch_scaled = scaler.fit_transform(y_train.reshape(-1, 1))\n",
        "y_test_torch_scaled = scaler.transform(y_test.reshape(-1, 1))"
      ],
      "metadata": {
        "id": "WTd-s4PQ-enY"
      },
      "execution_count": null,
      "outputs": []
    },
    {
      "cell_type": "code",
      "source": [
        "train_set_scaled = Our_Dataset(X_train_scaled, y_train_torch)\n",
        "train_loader_scaled = DataLoader(train_set, batch_size=32, shuffle=True)\n",
        "\n",
        "test_set_scaled = Our_Dataset(X_test_scaled, y_test_torch)\n",
        "test_loader_scaled = DataLoader(test_set, batch_size=32, shuffle=False)"
      ],
      "metadata": {
        "id": "Oa1XT9utHiJp"
      },
      "execution_count": null,
      "outputs": []
    },
    {
      "cell_type": "code",
      "source": [
        "model = nn.Sequential(\n",
        "    nn.Linear(\n",
        "        90, 400\n",
        "    ),\n",
        "    nn.BatchNorm1d(400),\n",
        "    nn.Dropout(p=0.1),\n",
        "    nn.ReLU(),\n",
        "    nn.Linear(\n",
        "        400, 100\n",
        "    ),\n",
        "    nn.ReLU(),\n",
        "    nn.Linear(\n",
        "        100, 1\n",
        "    )\n",
        ")\n",
        "optimizer = torch.optim.SGD(model.parameters(), lr=0.005, momentum=0.5)\n",
        "losses = train(model, optimizer, RMSE, train_loader_scaled, test_loader_scaled)"
      ],
      "metadata": {
        "colab": {
          "base_uri": "https://localhost:8080/"
        },
        "id": "YSA2JA9LHugB",
        "outputId": "890818f3-b275-4ecc-d8a8-7340781939c5"
      },
      "execution_count": null,
      "outputs": [
        {
          "output_type": "stream",
          "name": "stderr",
          "text": [
            "100%|██████████| 14492/14492 [00:30<00:00, 469.49it/s]\n",
            "100%|██████████| 1614/1614 [00:01<00:00, 1020.35it/s]\n"
          ]
        },
        {
          "output_type": "stream",
          "name": "stdout",
          "text": [
            "Epoch: 0, loss: 11.171635627746582\n"
          ]
        },
        {
          "output_type": "stream",
          "name": "stderr",
          "text": [
            "100%|██████████| 14492/14492 [00:30<00:00, 468.50it/s]\n",
            "100%|██████████| 1614/1614 [00:01<00:00, 971.67it/s]\n"
          ]
        },
        {
          "output_type": "stream",
          "name": "stdout",
          "text": [
            "Epoch: 1, loss: 17.27701187133789\n"
          ]
        },
        {
          "output_type": "stream",
          "name": "stderr",
          "text": [
            "100%|██████████| 14492/14492 [00:30<00:00, 471.63it/s]\n",
            "100%|██████████| 1614/1614 [00:02<00:00, 713.69it/s]\n"
          ]
        },
        {
          "output_type": "stream",
          "name": "stdout",
          "text": [
            "Epoch: 2, loss: 18.276044845581055\n"
          ]
        },
        {
          "output_type": "stream",
          "name": "stderr",
          "text": [
            "100%|██████████| 14492/14492 [00:30<00:00, 468.03it/s]\n",
            "100%|██████████| 1614/1614 [00:01<00:00, 1002.26it/s]\n"
          ]
        },
        {
          "output_type": "stream",
          "name": "stdout",
          "text": [
            "Epoch: 3, loss: 10.098831176757812\n"
          ]
        },
        {
          "output_type": "stream",
          "name": "stderr",
          "text": [
            "100%|██████████| 14492/14492 [00:32<00:00, 449.98it/s]\n",
            "100%|██████████| 1614/1614 [00:01<00:00, 958.75it/s]\n"
          ]
        },
        {
          "output_type": "stream",
          "name": "stdout",
          "text": [
            "Epoch: 4, loss: 9.714186668395996\n"
          ]
        },
        {
          "output_type": "stream",
          "name": "stderr",
          "text": [
            "100%|██████████| 14492/14492 [00:32<00:00, 447.37it/s]\n",
            "100%|██████████| 1614/1614 [00:01<00:00, 979.77it/s]\n"
          ]
        },
        {
          "output_type": "stream",
          "name": "stdout",
          "text": [
            "Epoch: 5, loss: 9.192129135131836\n"
          ]
        },
        {
          "output_type": "stream",
          "name": "stderr",
          "text": [
            "100%|██████████| 14492/14492 [00:32<00:00, 450.52it/s]\n",
            "100%|██████████| 1614/1614 [00:01<00:00, 985.62it/s] \n"
          ]
        },
        {
          "output_type": "stream",
          "name": "stdout",
          "text": [
            "Epoch: 6, loss: 17.286733627319336\n"
          ]
        },
        {
          "output_type": "stream",
          "name": "stderr",
          "text": [
            "100%|██████████| 14492/14492 [00:31<00:00, 457.58it/s]\n",
            "100%|██████████| 1614/1614 [00:01<00:00, 961.02it/s]\n"
          ]
        },
        {
          "output_type": "stream",
          "name": "stdout",
          "text": [
            "Epoch: 7, loss: 14.158476829528809\n"
          ]
        },
        {
          "output_type": "stream",
          "name": "stderr",
          "text": [
            "100%|██████████| 14492/14492 [00:36<00:00, 400.61it/s]\n",
            "100%|██████████| 1614/1614 [00:01<00:00, 953.17it/s]\n"
          ]
        },
        {
          "output_type": "stream",
          "name": "stdout",
          "text": [
            "Epoch: 8, loss: 19.761720657348633\n"
          ]
        },
        {
          "output_type": "stream",
          "name": "stderr",
          "text": [
            "100%|██████████| 14492/14492 [00:36<00:00, 394.26it/s]\n",
            "100%|██████████| 1614/1614 [00:02<00:00, 570.38it/s]\n"
          ]
        },
        {
          "output_type": "stream",
          "name": "stdout",
          "text": [
            "Epoch: 9, loss: 9.13550090789795\n"
          ]
        },
        {
          "output_type": "stream",
          "name": "stderr",
          "text": [
            "100%|██████████| 14492/14492 [00:33<00:00, 430.96it/s]\n",
            "100%|██████████| 1614/1614 [00:01<00:00, 1025.61it/s]"
          ]
        },
        {
          "output_type": "stream",
          "name": "stdout",
          "text": [
            "Epoch: 10, loss: 14.11577320098877\n"
          ]
        },
        {
          "output_type": "stream",
          "name": "stderr",
          "text": [
            "\n"
          ]
        }
      ]
    },
    {
      "cell_type": "code",
      "source": [
        "x = list(range(1, len(losses[0]) + 1))\n",
        "plt.plot(x, losses[0])\n",
        "plt.plot(x, losses[1])\n",
        "plt.legend(['train_loss', 'test_loss'])\n",
        "plt.xlabel('epoch')\n",
        "plt.ylabel('loss')\n",
        "plt.title('Optimized NN with SGD');"
      ],
      "metadata": {
        "colab": {
          "base_uri": "https://localhost:8080/",
          "height": 472
        },
        "id": "2WACtq3kjCt_",
        "outputId": "715e8a52-5f5d-4ae7-a0b5-83beebc14961"
      },
      "execution_count": null,
      "outputs": [
        {
          "output_type": "display_data",
          "data": {
            "text/plain": [
              "<Figure size 640x480 with 1 Axes>"
            ],
            "image/png": "[encoded data removed]"
          },
          "metadata": {}
        }
      ]
    },
    {
      "cell_type": "markdown",
      "source": [
        "Далее произошли следующие изменения:\n",
        "1. Уменьшение batch_size до 16\n",
        "2. Использую оптимизатор Adam\n",
        "\n",
        "**Итог:** loss = 8.753 на 9 эпохе"
      ],
      "metadata": {
        "id": "ZnloU-4nrndH"
      }
    },
    {
      "cell_type": "code",
      "source": [
        "train_set_scaled = Our_Dataset(X_train_scaled, y_train_torch)\n",
        "train_loader_scaled = DataLoader(train_set, batch_size=16, shuffle=True)\n",
        "\n",
        "test_set_scaled = Our_Dataset(X_test_scaled, y_test_torch)\n",
        "test_loader_scaled = DataLoader(test_set, batch_size=16, shuffle=False)"
      ],
      "metadata": {
        "id": "AELPyfFQjNrP"
      },
      "execution_count": null,
      "outputs": []
    },
    {
      "cell_type": "code",
      "source": [
        "model = nn.Sequential(\n",
        "    nn.Linear(\n",
        "        90, 400\n",
        "    ),\n",
        "    nn.BatchNorm1d(400),\n",
        "    nn.Dropout(p=0.1),\n",
        "    nn.ReLU(),\n",
        "    nn.Linear(\n",
        "        400, 100\n",
        "    ),\n",
        "    nn.ReLU(),\n",
        "    nn.Linear(\n",
        "        100, 1\n",
        "    )\n",
        ")\n",
        "optimizer = torch.optim.Adagrad(model.parameters(), lr=0.005)\n",
        "losses = train(model, optimizer, RMSE, train_loader_scaled, test_loader_scaled)"
      ],
      "metadata": {
        "colab": {
          "base_uri": "https://localhost:8080/"
        },
        "id": "N1l7tR8UjRo9",
        "outputId": "2a7ce370-cb70-48ff-c449-45ab7e79b2ec"
      },
      "execution_count": null,
      "outputs": [
        {
          "output_type": "stream",
          "name": "stderr",
          "text": [
            "100%|██████████| 28983/28983 [00:55<00:00, 521.74it/s]\n",
            "100%|██████████| 3227/3227 [00:02<00:00, 1594.36it/s]\n"
          ]
        },
        {
          "output_type": "stream",
          "name": "stdout",
          "text": [
            "Epoch: 0, loss: 34.80109786987305\n"
          ]
        },
        {
          "output_type": "stream",
          "name": "stderr",
          "text": [
            "100%|██████████| 28983/28983 [00:54<00:00, 536.27it/s]\n",
            "100%|██████████| 3227/3227 [00:02<00:00, 1444.23it/s]\n"
          ]
        },
        {
          "output_type": "stream",
          "name": "stdout",
          "text": [
            "Epoch: 1, loss: 37.38286590576172\n"
          ]
        },
        {
          "output_type": "stream",
          "name": "stderr",
          "text": [
            "100%|██████████| 28983/28983 [01:19<00:00, 364.46it/s]\n",
            "100%|██████████| 3227/3227 [00:02<00:00, 1511.37it/s]\n"
          ]
        },
        {
          "output_type": "stream",
          "name": "stdout",
          "text": [
            "Epoch: 2, loss: 27.733478546142578\n"
          ]
        },
        {
          "output_type": "stream",
          "name": "stderr",
          "text": [
            "100%|██████████| 28983/28983 [01:36<00:00, 301.07it/s]\n",
            "100%|██████████| 3227/3227 [00:02<00:00, 1522.80it/s]\n"
          ]
        },
        {
          "output_type": "stream",
          "name": "stdout",
          "text": [
            "Epoch: 3, loss: 9.131806373596191\n"
          ]
        },
        {
          "output_type": "stream",
          "name": "stderr",
          "text": [
            "100%|██████████| 28983/28983 [01:32<00:00, 312.71it/s]\n",
            "100%|██████████| 3227/3227 [00:02<00:00, 1522.91it/s]\n"
          ]
        },
        {
          "output_type": "stream",
          "name": "stdout",
          "text": [
            "Epoch: 4, loss: 8.955052375793457\n"
          ]
        },
        {
          "output_type": "stream",
          "name": "stderr",
          "text": [
            "100%|██████████| 28983/28983 [01:42<00:00, 283.55it/s]\n",
            "100%|██████████| 3227/3227 [00:02<00:00, 1426.87it/s]\n"
          ]
        },
        {
          "output_type": "stream",
          "name": "stdout",
          "text": [
            "Epoch: 5, loss: 9.360227584838867\n"
          ]
        },
        {
          "output_type": "stream",
          "name": "stderr",
          "text": [
            "100%|██████████| 28983/28983 [03:27<00:00, 139.46it/s]\n",
            "100%|██████████| 3227/3227 [00:02<00:00, 1177.99it/s]\n"
          ]
        },
        {
          "output_type": "stream",
          "name": "stdout",
          "text": [
            "Epoch: 6, loss: 9.723734855651855\n"
          ]
        },
        {
          "output_type": "stream",
          "name": "stderr",
          "text": [
            "100%|██████████| 28983/28983 [03:47<00:00, 127.32it/s]\n",
            "100%|██████████| 3227/3227 [00:02<00:00, 1440.70it/s]\n"
          ]
        },
        {
          "output_type": "stream",
          "name": "stdout",
          "text": [
            "Epoch: 7, loss: 8.869196891784668\n"
          ]
        },
        {
          "output_type": "stream",
          "name": "stderr",
          "text": [
            "100%|██████████| 28983/28983 [03:47<00:00, 127.66it/s]\n",
            "100%|██████████| 3227/3227 [00:02<00:00, 1504.60it/s]\n"
          ]
        },
        {
          "output_type": "stream",
          "name": "stdout",
          "text": [
            "Epoch: 8, loss: 8.847122192382812\n"
          ]
        },
        {
          "output_type": "stream",
          "name": "stderr",
          "text": [
            "100%|██████████| 28983/28983 [03:49<00:00, 126.24it/s]\n",
            "100%|██████████| 3227/3227 [00:02<00:00, 1449.68it/s]\n"
          ]
        },
        {
          "output_type": "stream",
          "name": "stdout",
          "text": [
            "Epoch: 9, loss: 8.753140449523926\n"
          ]
        },
        {
          "output_type": "stream",
          "name": "stderr",
          "text": [
            "100%|██████████| 28983/28983 [03:24<00:00, 141.59it/s]\n",
            "100%|██████████| 3227/3227 [00:02<00:00, 1548.37it/s]"
          ]
        },
        {
          "output_type": "stream",
          "name": "stdout",
          "text": [
            "Epoch: 10, loss: 8.926032066345215\n"
          ]
        },
        {
          "output_type": "stream",
          "name": "stderr",
          "text": [
            "\n"
          ]
        }
      ]
    },
    {
      "cell_type": "code",
      "source": [
        "x = list(range(1, len(losses[0]) + 1))\n",
        "plt.plot(x, losses[0])\n",
        "plt.plot(x, losses[1])\n",
        "plt.legend(['train_loss', 'test_loss'])\n",
        "plt.xlabel('epoch')\n",
        "plt.ylabel('loss')\n",
        "plt.title('Optimized NN with Adam');"
      ],
      "metadata": {
        "colab": {
          "base_uri": "https://localhost:8080/",
          "height": 472
        },
        "id": "m8S1JIposNns",
        "outputId": "ac259dad-df69-47cd-ec52-8c976bff9062"
      },
      "execution_count": null,
      "outputs": [
        {
          "output_type": "display_data",
          "data": {
            "text/plain": [
              "<Figure size 640x480 with 1 Axes>"
            ],
            "image/png": "[encoded data removed]"
          },
          "metadata": {}
        }
      ]
    },
    {
      "cell_type": "markdown",
      "source": [
        "Изменения следующие:\n",
        "1. Уменьшение батча до 12\n",
        "2. Оптимайзер RMSprop\n",
        "3. Моментум увеличил до 0.7\n",
        "4. lr = 0.001\n",
        "\n",
        "**Итог:** loss = 8.678"
      ],
      "metadata": {
        "id": "TjvXjZBf3Ku8"
      }
    },
    {
      "cell_type": "code",
      "source": [
        "train_set_scaled = Our_Dataset(X_train_scaled, y_train_torch)\n",
        "train_loader_scaled = DataLoader(train_set, batch_size=12, shuffle=True)\n",
        "\n",
        "test_set_scaled = Our_Dataset(X_test_scaled, y_test_torch)\n",
        "test_loader_scaled = DataLoader(test_set, batch_size=12, shuffle=False)"
      ],
      "metadata": {
        "id": "PwY8FXW5sUlo"
      },
      "execution_count": null,
      "outputs": []
    },
    {
      "cell_type": "code",
      "source": [
        "model = nn.Sequential(\n",
        "    nn.Linear(\n",
        "        90, 400\n",
        "    ),\n",
        "    nn.BatchNorm1d(400),\n",
        "    nn.Dropout(p=0.1),\n",
        "    nn.ReLU(),\n",
        "    nn.Linear(\n",
        "        400, 100\n",
        "    ),\n",
        "    nn.BatchNorm1d(100),\n",
        "    nn.ReLU(),\n",
        "    nn.Linear(\n",
        "        100, 1\n",
        "    )\n",
        ")\n",
        "optimizer = torch.optim.RMSprop(model.parameters(), lr=0.001, momentum=0.7)\n",
        "losses = train(model, optimizer, RMSE, train_loader_scaled, test_loader_scaled)"
      ],
      "metadata": {
        "colab": {
          "base_uri": "https://localhost:8080/"
        },
        "id": "0iWCkaZ3sWzv",
        "outputId": "b19b889a-daca-4017-a536-dfaf49deb55b"
      },
      "execution_count": null,
      "outputs": [
        {
          "output_type": "stream",
          "name": "stderr",
          "text": [
            "100%|██████████| 38643/38643 [04:13<00:00, 152.44it/s]\n",
            "100%|██████████| 4303/4303 [00:05<00:00, 793.13it/s]\n"
          ]
        },
        {
          "output_type": "stream",
          "name": "stdout",
          "text": [
            "Epoch: 0, loss: 9.04669189453125\n"
          ]
        },
        {
          "output_type": "stream",
          "name": "stderr",
          "text": [
            "100%|██████████| 38643/38643 [04:48<00:00, 134.10it/s]\n",
            "100%|██████████| 4303/4303 [00:05<00:00, 776.12it/s]\n"
          ]
        },
        {
          "output_type": "stream",
          "name": "stdout",
          "text": [
            "Epoch: 1, loss: 8.678324699401855\n"
          ]
        }
      ]
    },
    {
      "cell_type": "code",
      "source": [
        "x = list(range(1, len(losses[0]) + 1))\n",
        "plt.plot(x, losses[0])\n",
        "plt.plot(x, losses[1])\n",
        "plt.legend(['train_loss', 'test_loss'])\n",
        "plt.xlabel('epoch')\n",
        "plt.ylabel('loss')\n",
        "plt.title('Best NN with RMSprop');"
      ],
      "metadata": {
        "colab": {
          "base_uri": "https://localhost:8080/",
          "height": 472
        },
        "id": "UvPIXFld3B8M",
        "outputId": "5aadafbf-9ed4-490c-b63e-6469b07cfea0"
      },
      "execution_count": null,
      "outputs": [
        {
          "output_type": "display_data",
          "data": {
            "text/plain": [
              "<Figure size 640x480 with 1 Axes>"
            ],
            "image/png": "[encoded data removed]"
          },
          "metadata": {}
        }
      ]
    },
    {
      "cell_type": "markdown",
      "metadata": {
        "id": "bine9EES6TIn"
      },
      "source": [
        "## Задание 3. (0 баллов, но при невыполнении максимум за все задание &mdash; 0 баллов)\n",
        "\n",
        "Напишите небольшой отчет о том, как вы добились полученного качества: какие средства использовали и какие эксперименты проводили. Подробно расскажите об архитектурах и значениях гиперпараметров, а также какие метрики на тесте они показывали. Чтобы отчет был зачтен, необходимо привести хотя бы 3 эксперимента."
      ]
    },
    {
      "cell_type": "markdown",
      "source": [
        "**Итоги:**\n",
        "\n",
        "Сначала было сложно определиться с архитектурой сети, а точнее с количеством слоев, в первой версии я использовал два слоя, но там качество было далеко от нужного, попробовал 3 слоя стало заметно лучше, и в итоге я решил работать с тремя слоями.\n",
        "\n",
        "Далее я начал искать как лучше сделать архитектуру, а именно как использовать batchnorm и dropout.\n",
        "\n",
        "Дальше я решил поподбирать размер батчей (что в итоге оказалось главным ключом к успеху), я стал их уменьшать в каждой попытке.\n",
        "\n",
        "Потом уже почти добившись достаточно хорошего качества, я стал подбирать оптимизатор, сначала попробовал Adagrad, но он не выбивал мне качество на 10, поэтому я попробовал RMSprop. После этого подобрал гиперпараметры momentum и lr и все получилось."
      ],
      "metadata": {
        "id": "gDXTt-Z5fE1J"
      }
    },
    {
      "cell_type": "markdown",
      "source": [
        "Из ресурсов были использованы документация pytorch  а также:\n",
        "\n",
        "1. https://machinelearningknowledge.ai/pytorch-optimizers-complete-guide-for-beginner/\\\n",
        "\n",
        "2. https://russianblogs.com/article/43271545711/"
      ],
      "metadata": {
        "id": "OCTNh2LlgMlp"
      }
    }
  ],
  "metadata": {
    "colab": {
      "provenance": []
    },
    "kernelspec": {
      "display_name": "Python 3 (ipykernel)",
      "language": "python",
      "name": "python3"
    },
    "language_info": {
      "codemirror_mode": {
        "name": "ipython",
        "version": 3
      },
      "file_extension": ".py",
      "mimetype": "text/x-python",
      "name": "python",
      "nbconvert_exporter": "python",
      "pygments_lexer": "ipython3",
      "version": "3.9.7"
    }
  },
  "nbformat": 4,
  "nbformat_minor": 0
}